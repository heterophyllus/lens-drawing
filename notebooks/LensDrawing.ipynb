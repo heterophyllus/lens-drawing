{
 "cells": [
  {
   "cell_type": "code",
   "execution_count": 1,
   "id": "f39a2145-6ace-4b0d-8855-1c8bd43326d4",
   "metadata": {},
   "outputs": [],
   "source": [
    "import ezdxf\n",
    "from ezdxf.addons.drawing import matplotlib\n",
    "from ezdxf.addons.drawing import RenderContext, Frontend\n",
    "from ezdxf.addons.drawing.matplotlib import MatplotlibBackend\n",
    "import matplotlib.pyplot as plt\n",
    "import numpy as np\n",
    "from lens import *"
   ]
  },
  {
   "cell_type": "code",
   "execution_count": 2,
   "id": "e88c2c82-1461-41ed-9dde-62f589b835fb",
   "metadata": {},
   "outputs": [],
   "source": [
    "def add_line(msp, p1, p2):\n",
    "    new_line = msp.add_line(p1, p2, dxfattribs={'layer':'structure'})\n",
    "    return new_line\n",
    "\n",
    "def add_arc(msp, vertex_p, R, D):\n",
    "    center_p = (vertex_p[0]+R, vertex_p[1])\n",
    "    h = D/2\n",
    "    start_ang = 0\n",
    "    end_ang   = 0\n",
    "    if R > 0:\n",
    "        start_ang = 180 - np.degrees( np.arcsin(h/R) )\n",
    "        end_ang   = 180 + np.degrees( np.arcsin(h/R) )\n",
    "    else:\n",
    "        start_ang = np.degrees( np.arcsin(h/R) )\n",
    "        end_ang   =  - start_ang\n",
    "        \n",
    "    new_arc = msp.add_arc(center=center_p, radius=abs(R), start_angle=start_ang, end_angle=end_ang, dxfattribs={'layer':'structure'})\n",
    "    return new_arc\n",
    "\n",
    "def add_dim(msp, base, p1, p2):\n",
    "    dim = msp.add_linear_dim(base=base, p1=p1, p2=p2, dimstyle=\"Standard\")\n",
    "    return dim"
   ]
  },
  {
   "cell_type": "code",
   "execution_count": 9,
   "id": "77ab6ffc-1f1e-4361-9a75-5b4cc4d71396",
   "metadata": {},
   "outputs": [],
   "source": [
    "\n",
    "def draw_lens(msp, singlet, pos):\n",
    "    print(\"Draw lens\")\n",
    "    cd1 = singlet.left_surface.clear_diameter\n",
    "    cd2 = singlet.right_surface.clear_diameter\n",
    "    ed1 = singlet.left_surface.edge_diameter\n",
    "    ed2 = singlet.right_surface.edge_diameter\n",
    "    D = max(ed1, ed2)\n",
    "    \n",
    "    r1 = singlet.left_surface.radius\n",
    "    r2 = singlet.right_surface.radius\n",
    "    t  = singlet.thickness\n",
    "    \n",
    "    # draw curved surface\n",
    "    left_pos = pos\n",
    "    add_arc(msp, left_pos, r1, cd1)\n",
    "    right_pos = (pos[0]+t, pos[1] )\n",
    "    add_arc(msp, right_pos, r2, cd2)\n",
    "    \n",
    "    # draw flat surface\n",
    "    pt1 = (left_pos[0]+singlet.left_surface.sag(cd1/2), left_pos[1]+cd1/2)\n",
    "    pt2 = (left_pos[0]+singlet.left_surface.sag(cd1/2), left_pos[1]+D/2)\n",
    "    add_line(msp, pt1, pt2)\n",
    "    \n",
    "    pt1 = (left_pos[0]+singlet.left_surface.sag(cd1/2), left_pos[1]-cd1/2)\n",
    "    pt2 = (left_pos[0]+singlet.left_surface.sag(cd1/2), left_pos[1]-D/2)\n",
    "    add_line(msp, pt1, pt2)\n",
    "    \n",
    "    pt1 = (right_pos[0]+singlet.right_surface.sag(cd2/2), left_pos[1]+cd2/2)\n",
    "    pt2 = (right_pos[0]+singlet.right_surface.sag(cd2/2), left_pos[1]+D/2)\n",
    "    add_line(msp, pt1, pt2)\n",
    "    \n",
    "    pt1 = (right_pos[0]+singlet.right_surface.sag(cd2/2), left_pos[1]-cd2/2)\n",
    "    pt2 = (right_pos[0]+singlet.right_surface.sag(cd2/2), left_pos[1]-D/2)\n",
    "    add_line(msp, pt1, pt2)\n",
    "    \n",
    "    # draw koba\n",
    "    pt1 = (left_pos[0]+singlet.left_surface.sag(cd1/2), left_pos[1]+D/2)\n",
    "    pt2 = (right_pos[0]+singlet.right_surface.sag(cd2/2), right_pos[1]+D/2)\n",
    "    add_line(msp, pt1, pt2)\n",
    "    \n",
    "    pt1 = (left_pos[0]+singlet.left_surface.sag(cd1/2), left_pos[1]-D/2)\n",
    "    pt2 = (right_pos[0]+singlet.right_surface.sag(cd2/2), right_pos[1]-D/2)\n",
    "    add_line(msp, pt1, pt2)\n",
    "    \n",
    "    # draw dimensions\n",
    "    # center thickness\n",
    "    pt1 = pos\n",
    "    pt2 = (pos[0]+t, pos[1])\n",
    "    base = (pos[0]+t/2, pos[1] - (D/2)*1.)\n",
    "    add_dim(msp,base, pt1, pt2)\n",
    "    "
   ]
  },
  {
   "cell_type": "code",
   "execution_count": 7,
   "id": "835b250c-4c64-4159-9c1d-229533abc242",
   "metadata": {},
   "outputs": [
    {
     "name": "stdout",
     "output_type": "stream",
     "text": [
      "Draw lens\n",
      "Draw lens\n",
      "Draw lens\n"
     ]
    }
   ],
   "source": [
    "\n",
    "doc = ezdxf.readfile(\"./SolidEdge/schematic_A4.dxf\")\n",
    "msp = doc.modelspace()\n",
    "\n",
    "layers = [\"structure\", \"dimension\", \"text\", \"frame\"] #構造物 寸法 文字列 図枠\n",
    "for layer in layers:\n",
    "    doc.layers.add(name=layer)#特に属性は指定しない \n",
    "\n",
    "lens1 = Singlet(40.0, 12, 15, -40.00, 12, 15, 'N-BK7', 5) \n",
    "draw_lens(msp, lens1, (120,130))\n",
    "\n",
    "lens2 = Singlet(-10.0, 7, 15, 15.00, 15, 15, 'N-BK7', 2) \n",
    "draw_lens(msp, lens2, (150,130))\n",
    "\n",
    "lens3 = Singlet(-10.0, 7, 15, -55.00, 15, 15, 'N-BK7', 3) \n",
    "draw_lens(msp, lens3, (200,130))\n",
    "\n",
    "doc.saveas(\"lens.dxf\")\n",
    "\n"
   ]
  },
  {
   "cell_type": "code",
   "execution_count": null,
   "id": "cb75ed3e-0ab0-4949-912e-518158535cb4",
   "metadata": {},
   "outputs": [],
   "source": []
  }
 ],
 "metadata": {
  "kernelspec": {
   "display_name": "Python 3 (ipykernel)",
   "language": "python",
   "name": "python3"
  },
  "language_info": {
   "codemirror_mode": {
    "name": "ipython",
    "version": 3
   },
   "file_extension": ".py",
   "mimetype": "text/x-python",
   "name": "python",
   "nbconvert_exporter": "python",
   "pygments_lexer": "ipython3",
   "version": "3.10.7"
  }
 },
 "nbformat": 4,
 "nbformat_minor": 5
}
