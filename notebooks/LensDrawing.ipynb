{
 "cells": [
  {
   "cell_type": "code",
   "execution_count": 1,
   "id": "f39a2145-6ace-4b0d-8855-1c8bd43326d4",
   "metadata": {},
   "outputs": [],
   "source": [
    "import ezdxf\n",
    "#from ezdxf.addons.drawing import matplotlib\n",
    "#from ezdxf.addons.drawing import RenderContext, Frontend\n",
    "#from ezdxf.addons.drawing.matplotlib import MatplotlibBackend\n",
    "import matplotlib.pyplot as plt\n",
    "import numpy as np\n",
    "from lens_drawing import *"
   ]
  },
  {
   "cell_type": "code",
   "execution_count": 2,
   "id": "835b250c-4c64-4159-9c1d-229533abc242",
   "metadata": {
    "tags": []
   },
   "outputs": [
    {
     "name": "stdout",
     "output_type": "stream",
     "text": [
      "Done\n"
     ]
    }
   ],
   "source": [
    "drawing = LensDrawing(\"./SolidEdge/schematic_A4.dxf\")\n",
    "\n",
    "\n",
    "lens1 = Singlet(radius1         = 40.0,\n",
    "                clear_diameter1 = 12,\n",
    "                radius2         = -40.00,\n",
    "                clear_diameter2 = 12,\n",
    "                mech_diameter   = 15,\n",
    "                material        = 'N-BK7', \n",
    "                thickness       = 5\n",
    "               ) \n",
    "drawing.draw_lens(lens1, (120,130))\n",
    "\n",
    "\n",
    "lens2 = Singlet(radius1         = -10.0,\n",
    "                clear_diameter1 = 7,\n",
    "                radius2         = 15.00,\n",
    "                clear_diameter2 = 12,\n",
    "                mech_diameter   = 15,\n",
    "                material        = 'N-BK7', \n",
    "                thickness       = 2.5\n",
    "               ) \n",
    "drawing.draw_lens(lens2, (150,130))\n",
    "\n",
    "drawing.saveas(\"drawing.dxf\")\n",
    "\n",
    "print(\"Done\")"
   ]
  },
  {
   "cell_type": "code",
   "execution_count": null,
   "id": "cb75ed3e-0ab0-4949-912e-518158535cb4",
   "metadata": {},
   "outputs": [],
   "source": []
  }
 ],
 "metadata": {
  "kernelspec": {
   "display_name": "Python 3 (ipykernel)",
   "language": "python",
   "name": "python3"
  },
  "language_info": {
   "codemirror_mode": {
    "name": "ipython",
    "version": 3
   },
   "file_extension": ".py",
   "mimetype": "text/x-python",
   "name": "python",
   "nbconvert_exporter": "python",
   "pygments_lexer": "ipython3",
   "version": "3.10.7"
  }
 },
 "nbformat": 4,
 "nbformat_minor": 5
}
