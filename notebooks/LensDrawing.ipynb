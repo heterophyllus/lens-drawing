{
 "cells": [
  {
   "cell_type": "code",
   "execution_count": 4,
   "id": "f39a2145-6ace-4b0d-8855-1c8bd43326d4",
   "metadata": {},
   "outputs": [],
   "source": [
    "import ezdxf\n",
    "from ezdxf.addons.drawing import matplotlib\n",
    "from ezdxf.addons.drawing import RenderContext, Frontend\n",
    "from ezdxf.addons.drawing.matplotlib import MatplotlibBackend\n",
    "import matplotlib.pyplot as plt\n",
    "import numpy as np"
   ]
  },
  {
   "cell_type": "code",
   "execution_count": 5,
   "id": "51fd1ea8-b726-4058-97bf-b309716d9d7b",
   "metadata": {},
   "outputs": [],
   "source": [
    "# レンズを定義\n",
    "class Surface:\n",
    "    def __init__(self, r, cd):\n",
    "        self.radius = r\n",
    "        self.clear_diameter = cd\n",
    "\n",
    "class Singlet:\n",
    "    def __init__(self, r1, cd1, r2, cd2, m, t, ed = None):\n",
    "        self.left_surface  = Surface(r1, cd1)\n",
    "        self.right_surface = Surface(r2, cd2)\n",
    "        self.material = \"N-BK7\"\n",
    "        self.thickness = t\n",
    "        if ed is None:\n",
    "            self.edge_diameter = max(cd1, cd2)\n",
    "        else:\n",
    "            self.edge_diameter = ed\n",
    "\n",
    "        \n",
    "lens = Singlet(38.88, 12, -40.00, 12, 'N-BK7', 2, 12)        \n"
   ]
  },
  {
   "cell_type": "code",
   "execution_count": 3,
   "id": "d2bac013-e662-464d-acb8-af425fb4e196",
   "metadata": {},
   "outputs": [],
   "source": [
    "doc = ezdxf.new(\"R2000\", setup=True, units = 4)\n",
    "msp = doc.modelspace()\n",
    "\n",
    "layers = [\"structure\", \"dimension\", \"text\", \"frame\"] #構造物 寸法 文字列 図枠\n",
    "for layer in layers:\n",
    "    doc.layers.add(name=layer)#特に属性は指定しない "
   ]
  },
  {
   "cell_type": "code",
   "execution_count": 7,
   "id": "e88c2c82-1461-41ed-9dde-62f589b835fb",
   "metadata": {},
   "outputs": [],
   "source": [
    "def add_line(p1, p2):\n",
    "    new_line = msp.add_line(p1, p2, dxfattribs={'layer':'structure'})\n",
    "    return new_line\n",
    "\n",
    "def add_arc(vertex_p, R, D):\n",
    "    center_p = (vertex_p[0]+radius, vertex_p[1])\n",
    "    h = D/2\n",
    "    start_ang = 0\n",
    "    end_ang   = 0\n",
    "    if R > 0:\n",
    "        start_ang = 180 - np.degrees( np.arcsin(h/R) )\n",
    "        end_ang   = 180 + start_ang\n",
    "    else:\n",
    "        start_ang = - np.degrees( np.arcsin(h/R) )\n",
    "        end_ang   =  - start_ang\n",
    "    new_arc = msp.add_arc(center=center_p, radius=R, start_angle=start_ang, end_angle=end_ang, dxfattribs={'layer':'structure'})\n",
    "    return new_arc\n",
    " \n",
    "    "
   ]
  },
  {
   "cell_type": "code",
   "execution_count": null,
   "id": "77ab6ffc-1f1e-4361-9a75-5b4cc4d71396",
   "metadata": {},
   "outputs": [],
   "source": [
    "def draw_lens(singlet, pos):\n",
    "    left_pos = pos\n",
    "    add_arc(left_pos, singlet.left_surface.radius, singlet.left_surface.clear_diameter)\n",
    "    right_pos = pos\n",
    "    right_pos[0] += singlet.thickness\n",
    "    add_arc(right_pos, singlet.right_surface.radius, singlet.right_surface.clear_diameter)\n",
    "    \n",
    "    "
   ]
  }
 ],
 "metadata": {
  "kernelspec": {
   "display_name": "Python 3 (ipykernel)",
   "language": "python",
   "name": "python3"
  },
  "language_info": {
   "codemirror_mode": {
    "name": "ipython",
    "version": 3
   },
   "file_extension": ".py",
   "mimetype": "text/x-python",
   "name": "python",
   "nbconvert_exporter": "python",
   "pygments_lexer": "ipython3",
   "version": "3.10.7"
  }
 },
 "nbformat": 4,
 "nbformat_minor": 5
}
