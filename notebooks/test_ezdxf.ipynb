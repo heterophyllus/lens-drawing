{
 "cells": [
  {
   "cell_type": "code",
   "execution_count": 2,
   "id": "6b1db1fb-713e-4bd6-a41e-9463353192f7",
   "metadata": {},
   "outputs": [
    {
     "name": "stdout",
     "output_type": "stream",
     "text": [
      "0\n",
      "Default\n",
      "Defpoints\n",
      "structure\n",
      "dimension\n",
      "text\n",
      "frame\n"
     ]
    }
   ],
   "source": [
    "import sys\n",
    "import ezdxf\n",
    "\n",
    "doc = ezdxf.readfile(\"./drawing.dxf\")\n",
    "msp = doc.modelspace()\n",
    "\n",
    "for layer in doc.layers:\n",
    "    print(layer.dxf.name)"
   ]
  },
  {
   "cell_type": "code",
   "execution_count": 3,
   "id": "d3e92d3a-260b-4b34-89f2-547b5fadcf21",
   "metadata": {},
   "outputs": [
    {
     "name": "stdout",
     "output_type": "stream",
     "text": [
      "LINE\n",
      "LINE\n",
      "LINE\n",
      "LINE\n",
      "LINE\n",
      "LINE\n",
      "LINE\n",
      "LINE\n",
      "LINE\n",
      "LINE\n",
      "LINE\n",
      "LINE\n",
      "LINE\n",
      "LINE\n",
      "LINE\n",
      "LINE\n",
      "LINE\n",
      "LINE\n",
      "LINE\n",
      "LINE\n",
      "LINE\n",
      "MTEXT\n",
      "MTEXT\n",
      "MTEXT\n",
      "MTEXT\n",
      "MTEXT\n",
      "MTEXT\n",
      "INSERT\n",
      "MULTILEADER\n",
      "MTEXT\n",
      "INSERT\n",
      "MULTILEADER\n",
      "MTEXT\n",
      "MTEXT\n",
      "MTEXT\n",
      "MTEXT\n",
      "MTEXT\n",
      "MTEXT\n",
      "INSERT\n",
      "MULTILEADER\n",
      "MTEXT\n",
      "MTEXT\n",
      "INSERT\n",
      "MULTILEADER\n",
      "LINE\n",
      "LINE\n",
      "LINE\n",
      "LINE\n",
      "LINE\n",
      "LINE\n",
      "MTEXT\n",
      "MTEXT\n",
      "MTEXT\n",
      "MTEXT\n",
      "MTEXT\n",
      "ARC\n",
      "ARC\n",
      "LINE\n",
      "LINE\n",
      "LINE\n",
      "LINE\n",
      "LINE\n",
      "LINE\n",
      "DIMENSION\n",
      "DIMENSION\n",
      "DIMENSION\n",
      "DIMENSION\n",
      "DIMENSION\n",
      "DIMENSION\n",
      "DIMENSION\n",
      "ARC\n",
      "ARC\n",
      "LINE\n",
      "LINE\n",
      "LINE\n",
      "LINE\n",
      "LINE\n",
      "LINE\n",
      "DIMENSION\n",
      "DIMENSION\n",
      "DIMENSION\n",
      "DIMENSION\n",
      "DIMENSION\n",
      "DIMENSION\n",
      "DIMENSION\n"
     ]
    }
   ],
   "source": [
    "for e in msp:\n",
    "    print(e.dxftype())"
   ]
  }
 ],
 "metadata": {
  "kernelspec": {
   "display_name": "Python 3 (ipykernel)",
   "language": "python",
   "name": "python3"
  },
  "language_info": {
   "codemirror_mode": {
    "name": "ipython",
    "version": 3
   },
   "file_extension": ".py",
   "mimetype": "text/x-python",
   "name": "python",
   "nbconvert_exporter": "python",
   "pygments_lexer": "ipython3",
   "version": "3.10.7"
  }
 },
 "nbformat": 4,
 "nbformat_minor": 5
}
