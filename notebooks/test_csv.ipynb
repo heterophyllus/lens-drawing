{
 "cells": [
  {
   "cell_type": "code",
   "execution_count": 6,
   "id": "0739a8f4-2a9c-4c08-ad85-2765f1af3b35",
   "metadata": {},
   "outputs": [
    {
     "name": "stdout",
     "output_type": "stream",
     "text": [
      "  Name  PosX  PosY  Radius1  ClearDiameter1  EdgeDiameter1  Radius2  \\\n",
      "0   G1   150   150    38.88              12             12      -40   \n",
      "1   G2   150   150   -40.00               7             12       50   \n",
      "\n",
      "   ClearDiamter2  Edgediameter2  Thickness Material  \n",
      "0             12             12          5    N-BK7  \n",
      "1              9             20          5   S-BSL7  \n"
     ]
    }
   ],
   "source": [
    "import pandas as pd\n",
    "\n",
    "csv_file = \"./lens.csv\"\n",
    "df = pd.read_csv(csv_file)\n",
    "print(df)"
   ]
  },
  {
   "cell_type": "code",
   "execution_count": 15,
   "id": "96f2881e-5526-47a7-a832-4dfb6e0b2b20",
   "metadata": {},
   "outputs": [
    {
     "name": "stdout",
     "output_type": "stream",
     "text": [
      "-40\n",
      "150\n"
     ]
    }
   ],
   "source": [
    "print(df.at[0,\"Radius2\"])\n",
    "print(df.iat[1,1])"
   ]
  }
 ],
 "metadata": {
  "kernelspec": {
   "display_name": "Python 3 (ipykernel)",
   "language": "python",
   "name": "python3"
  },
  "language_info": {
   "codemirror_mode": {
    "name": "ipython",
    "version": 3
   },
   "file_extension": ".py",
   "mimetype": "text/x-python",
   "name": "python",
   "nbconvert_exporter": "python",
   "pygments_lexer": "ipython3",
   "version": "3.10.7"
  }
 },
 "nbformat": 4,
 "nbformat_minor": 5
}
